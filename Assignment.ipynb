{
 "cells": [
  {
   "cell_type": "markdown",
   "id": "8ede54ad",
   "metadata": {},
   "source": [
    "# My Jupyter Notebook on IBM Watson Studio\n"
   ]
  },
  {
   "cell_type": "markdown",
   "id": "7f5697d8",
   "metadata": {},
   "source": [
    "**Joseph**\n",
    "Data Scientist\n"
   ]
  },
  {
   "cell_type": "markdown",
   "id": "5060c36a",
   "metadata": {},
   "source": [
    "*I like data scientce because data gives insights*"
   ]
  },
  {
   "cell_type": "markdown",
   "id": "97ddb801",
   "metadata": {},
   "source": [
    "##### A print function to display a string"
   ]
  },
  {
   "cell_type": "code",
   "execution_count": 1,
   "id": "ebab55b9",
   "metadata": {},
   "outputs": [
    {
     "name": "stdout",
     "output_type": "stream",
     "text": [
      "This is working!\n"
     ]
    }
   ],
   "source": [
    "print(\"This is working!\")"
   ]
  },
  {
   "cell_type": "markdown",
   "id": "4b8cbced",
   "metadata": {},
   "source": [
    "`This` | `is` | `a table`\n",
    "---| ---| ---|\n",
    "~~This~~ | **is** | *a table*\n",
    "1 | 2 | 3\n",
    "\n",
    "\n"
   ]
  },
  {
   "cell_type": "code",
   "execution_count": null,
   "id": "0d040eee",
   "metadata": {},
   "outputs": [],
   "source": []
  }
 ],
 "metadata": {
  "kernelspec": {
   "display_name": "Python 3",
   "language": "python",
   "name": "python3"
  },
  "language_info": {
   "codemirror_mode": {
    "name": "ipython",
    "version": 3
   },
   "file_extension": ".py",
   "mimetype": "text/x-python",
   "name": "python",
   "nbconvert_exporter": "python",
   "pygments_lexer": "ipython3",
   "version": "3.8.5"
  }
 },
 "nbformat": 4,
 "nbformat_minor": 5
}
